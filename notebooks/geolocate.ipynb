{
 "cells": [
  {
   "cell_type": "markdown",
   "id": "87b4f6fa",
   "metadata": {},
   "source": [
    "# GEOLOCATE ADDRESSES:\n",
    "**Interesting resources:** https://towardsdatascience.com/geocode-with-python-161ec1e62b89"
   ]
  },
  {
   "cell_type": "code",
   "execution_count": 1,
   "id": "acb9acc1",
   "metadata": {},
   "outputs": [
    {
     "name": "stdout",
     "output_type": "stream",
     "text": [
      "C:\\Users\\MD726YR\\PycharmProjects\\eyft\n"
     ]
    }
   ],
   "source": [
    "import os\n",
    "\n",
    "while not os.path.abspath(os.curdir).endswith('notebooks'):\n",
    "    print(os.path.abspath(os.curdir))\n",
    "    os.chdir('..')\n",
    "\n",
    "os.chdir('..')  # to get to root\n",
    "print(os.path.abspath(os.curdir))"
   ]
  },
  {
   "cell_type": "code",
   "execution_count": 2,
   "id": "18a25500",
   "metadata": {},
   "outputs": [],
   "source": [
    "import os\n",
    "import pandas as pd\n",
    "\n",
    "from geopy.geocoders import Nominatim\n",
    "from geopy.extra.rate_limiter import RateLimiter"
   ]
  },
  {
   "cell_type": "markdown",
   "id": "95ddee78",
   "metadata": {},
   "source": [
    "#### Disable SSL \n",
    "    import ssl\n",
    "    orig_sslsocket_init = ssl.SSLSocket.__init__\n",
    "    ssl.SSLSocket.__init__ = lambda *args, cert_reqs=ssl.CERT_NONE, **kwargs: orig_sslsocket_init(*args, cert_reqs=ssl.CERT_NONE, **kwargs)"
   ]
  },
  {
   "cell_type": "markdown",
   "id": "983a33ec",
   "metadata": {},
   "source": [
    "#### Import Addresses"
   ]
  },
  {
   "cell_type": "code",
   "execution_count": 3,
   "id": "3480853c",
   "metadata": {},
   "outputs": [],
   "source": [
    "dir_name = \"./data/02_data_processing\"\n",
    "fname = \"ds_flanders.xlsx\"\n",
    "\n",
    "df = pd.read_excel(os.path.join(dir_name, fname))"
   ]
  },
  {
   "cell_type": "code",
   "execution_count": 4,
   "id": "ab7a7d22",
   "metadata": {},
   "outputs": [
    {
     "data": {
      "text/html": [
       "<div>\n",
       "<style scoped>\n",
       "    .dataframe tbody tr th:only-of-type {\n",
       "        vertical-align: middle;\n",
       "    }\n",
       "\n",
       "    .dataframe tbody tr th {\n",
       "        vertical-align: top;\n",
       "    }\n",
       "\n",
       "    .dataframe thead th {\n",
       "        text-align: right;\n",
       "    }\n",
       "</style>\n",
       "<table border=\"1\" class=\"dataframe\">\n",
       "  <thead>\n",
       "    <tr style=\"text-align: right;\">\n",
       "      <th></th>\n",
       "      <th>EPC</th>\n",
       "      <th>Price</th>\n",
       "      <th>Bedrooms</th>\n",
       "      <th>Facades</th>\n",
       "      <th>Updated_Price_Per_m2</th>\n",
       "      <th>Address</th>\n",
       "    </tr>\n",
       "  </thead>\n",
       "  <tbody>\n",
       "    <tr>\n",
       "      <th>0</th>\n",
       "      <td>259.0</td>\n",
       "      <td>325000</td>\n",
       "      <td>3</td>\n",
       "      <td>NaN</td>\n",
       "      <td>2407.407407</td>\n",
       "      <td>Hendrik De Braekeleerlaan 68,Antwerpen,2630</td>\n",
       "    </tr>\n",
       "    <tr>\n",
       "      <th>1</th>\n",
       "      <td>644.0</td>\n",
       "      <td>174000</td>\n",
       "      <td>2</td>\n",
       "      <td>NaN</td>\n",
       "      <td>1933.333333</td>\n",
       "      <td>Antwerpsesteenweg 50,Antwerpen,2630</td>\n",
       "    </tr>\n",
       "    <tr>\n",
       "      <th>2</th>\n",
       "      <td>644.0</td>\n",
       "      <td>174000</td>\n",
       "      <td>2</td>\n",
       "      <td>NaN</td>\n",
       "      <td>1933.333333</td>\n",
       "      <td>Antwerpsesteenweg 5,Antwerpen,2630</td>\n",
       "    </tr>\n",
       "    <tr>\n",
       "      <th>3</th>\n",
       "      <td>206.0</td>\n",
       "      <td>199000</td>\n",
       "      <td>2</td>\n",
       "      <td>NaN</td>\n",
       "      <td>2186.813187</td>\n",
       "      <td>Hoevelei 194,Antwerpen,2630</td>\n",
       "    </tr>\n",
       "    <tr>\n",
       "      <th>4</th>\n",
       "      <td>229.0</td>\n",
       "      <td>239000</td>\n",
       "      <td>2</td>\n",
       "      <td>NaN</td>\n",
       "      <td>2515.789474</td>\n",
       "      <td>Leon Gilliotlaan 40,Antwerpen,2630</td>\n",
       "    </tr>\n",
       "    <tr>\n",
       "      <th>...</th>\n",
       "      <td>...</td>\n",
       "      <td>...</td>\n",
       "      <td>...</td>\n",
       "      <td>...</td>\n",
       "      <td>...</td>\n",
       "      <td>...</td>\n",
       "    </tr>\n",
       "    <tr>\n",
       "      <th>36059</th>\n",
       "      <td>182.0</td>\n",
       "      <td>895000</td>\n",
       "      <td>6</td>\n",
       "      <td>4.0</td>\n",
       "      <td>1217.687075</td>\n",
       "      <td>Rijksweg 129,Limburg,3630</td>\n",
       "    </tr>\n",
       "    <tr>\n",
       "      <th>36060</th>\n",
       "      <td>51.0</td>\n",
       "      <td>259000</td>\n",
       "      <td>4</td>\n",
       "      <td>NaN</td>\n",
       "      <td>2158.333333</td>\n",
       "      <td>Grotestraat 325/1,Limburg,3631</td>\n",
       "    </tr>\n",
       "    <tr>\n",
       "      <th>36061</th>\n",
       "      <td>487.0</td>\n",
       "      <td>265000</td>\n",
       "      <td>3</td>\n",
       "      <td>4.0</td>\n",
       "      <td>2038.461538</td>\n",
       "      <td>Grotestraat 195,Limburg,3631</td>\n",
       "    </tr>\n",
       "    <tr>\n",
       "      <th>36062</th>\n",
       "      <td>665.0</td>\n",
       "      <td>219000</td>\n",
       "      <td>4</td>\n",
       "      <td>4.0</td>\n",
       "      <td>1990.909091</td>\n",
       "      <td>rue Varn 5,Limburg,3793</td>\n",
       "    </tr>\n",
       "    <tr>\n",
       "      <th>36063</th>\n",
       "      <td>492.0</td>\n",
       "      <td>239000</td>\n",
       "      <td>3</td>\n",
       "      <td>2.0</td>\n",
       "      <td>1086.363636</td>\n",
       "      <td>1-Septemberstraat 2,Limburg,3798</td>\n",
       "    </tr>\n",
       "  </tbody>\n",
       "</table>\n",
       "<p>36064 rows × 6 columns</p>\n",
       "</div>"
      ],
      "text/plain": [
       "         EPC   Price  Bedrooms  Facades  Updated_Price_Per_m2  \\\n",
       "0      259.0  325000         3      NaN           2407.407407   \n",
       "1      644.0  174000         2      NaN           1933.333333   \n",
       "2      644.0  174000         2      NaN           1933.333333   \n",
       "3      206.0  199000         2      NaN           2186.813187   \n",
       "4      229.0  239000         2      NaN           2515.789474   \n",
       "...      ...     ...       ...      ...                   ...   \n",
       "36059  182.0  895000         6      4.0           1217.687075   \n",
       "36060   51.0  259000         4      NaN           2158.333333   \n",
       "36061  487.0  265000         3      4.0           2038.461538   \n",
       "36062  665.0  219000         4      4.0           1990.909091   \n",
       "36063  492.0  239000         3      2.0           1086.363636   \n",
       "\n",
       "                                           Address  \n",
       "0      Hendrik De Braekeleerlaan 68,Antwerpen,2630  \n",
       "1              Antwerpsesteenweg 50,Antwerpen,2630  \n",
       "2               Antwerpsesteenweg 5,Antwerpen,2630  \n",
       "3                      Hoevelei 194,Antwerpen,2630  \n",
       "4               Leon Gilliotlaan 40,Antwerpen,2630  \n",
       "...                                            ...  \n",
       "36059                    Rijksweg 129,Limburg,3630  \n",
       "36060               Grotestraat 325/1,Limburg,3631  \n",
       "36061                 Grotestraat 195,Limburg,3631  \n",
       "36062                      rue Varn 5,Limburg,3793  \n",
       "36063             1-Septemberstraat 2,Limburg,3798  \n",
       "\n",
       "[36064 rows x 6 columns]"
      ]
     },
     "metadata": {},
     "output_type": "display_data"
    }
   ],
   "source": [
    "display(df)"
   ]
  },
  {
   "cell_type": "code",
   "execution_count": 5,
   "id": "7c7523db",
   "metadata": {},
   "outputs": [],
   "source": [
    "addresses = df['Address'].to_list()"
   ]
  },
  {
   "cell_type": "code",
   "execution_count": 11,
   "id": "956e9ce6",
   "metadata": {},
   "outputs": [],
   "source": [
    "#Creating an instance of Nominatim Class\n",
    "geolocator = Nominatim(\n",
    "    user_agent=\"eyft_68\",\n",
    ")\n",
    " \n",
    "#applying the rate limiter wrapper\n",
    "geocode = RateLimiter(geolocator.geocode, min_delay_seconds=1)"
   ]
  },
  {
   "cell_type": "code",
   "execution_count": 12,
   "id": "e943d2e4",
   "metadata": {},
   "outputs": [
    {
     "data": {
      "text/plain": [
       "Location(Hendrik de Braekeleerlaan, Aartselaar, Antwerpen, Vlaanderen, 2630, België / Belgique / Belgien, (51.1394176, 4.3830817, 0.0))"
      ]
     },
     "execution_count": 12,
     "metadata": {},
     "output_type": "execute_result"
    }
   ],
   "source": [
    "geocode(addresses[0], country_codes=['be', 'nl'])"
   ]
  }
 ],
 "metadata": {
  "kernelspec": {
   "display_name": "Kedro (eyft)",
   "language": "python",
   "name": "kedro_eyft"
  },
  "language_info": {
   "codemirror_mode": {
    "name": "ipython",
    "version": 3
   },
   "file_extension": ".py",
   "mimetype": "text/x-python",
   "name": "python",
   "nbconvert_exporter": "python",
   "pygments_lexer": "ipython3",
   "version": "3.8.10"
  }
 },
 "nbformat": 4,
 "nbformat_minor": 5
}
